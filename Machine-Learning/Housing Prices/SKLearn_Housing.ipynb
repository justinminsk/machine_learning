{
 "cells": [
  {
   "cell_type": "code",
   "execution_count": 1,
   "metadata": {
    "collapsed": true
   },
   "outputs": [],
   "source": [
    "import pandas as pd\n",
    "import numpy as np"
   ]
  },
  {
   "cell_type": "code",
   "execution_count": 111,
   "metadata": {},
   "outputs": [
    {
     "name": "stdout",
     "output_type": "stream",
     "text": [
      "   Id  MSSubClass MSZoning  LotFrontage  LotArea Street Alley LotShape  \\\n0   1          60       RL         65.0     8450   Pave   NaN      Reg   \n1   2          20       RL         80.0     9600   Pave   NaN      Reg   \n2   3          60       RL         68.0    11250   Pave   NaN      IR1   \n3   4          70       RL         60.0     9550   Pave   NaN      IR1   \n4   5          60       RL         84.0    14260   Pave   NaN      IR1   \n\n  LandContour Utilities    ...     PoolArea PoolQC Fence MiscFeature MiscVal  \\\n0         Lvl    AllPub    ...            0    NaN   NaN         NaN       0   \n1         Lvl    AllPub    ...            0    NaN   NaN         NaN       0   \n2         Lvl    AllPub    ...            0    NaN   NaN         NaN       0   \n3         Lvl    AllPub    ...            0    NaN   NaN         NaN       0   \n4         Lvl    AllPub    ...            0    NaN   NaN         NaN       0   \n\n  MoSold YrSold  SaleType  SaleCondition  SalePrice  \n0      2   2008        WD         Normal     208500  \n1      5   2007        WD         Normal     181500  \n2      9   2008        WD         Normal     223500  \n3      2   2006        WD        Abnorml     140000  \n4     12   2008        WD         Normal     250000  \n\n[5 rows x 81 columns]\n"
     ]
    }
   ],
   "source": [
    "train_df = pd.read_csv('C:\\\\Users\\\\justin\\\\PycharmProjects\\\\Main_Test\\Machine-Learning\\\\Housing Prices\\\\train.csv')\n",
    "test_df = pd.read_csv('C:\\\\Users\\\\justin\\\\PycharmProjects\\\\Main_Test\\\\Machine-Learning\\\\Housing Prices\\\\test.csv')\n",
    "print(train_df.head())"
   ]
  },
  {
   "cell_type": "code",
   "execution_count": 112,
   "metadata": {},
   "outputs": [
    {
     "name": "stdout",
     "output_type": "stream",
     "text": [
      "[0 1 2] [0 2 1]\n"
     ]
    }
   ],
   "source": [
    "train_df['Alley'].fillna(0, inplace=True)\n",
    "train_df.Alley = train_df.Alley.astype('category')\n",
    "train_df.Alley = train_df.Alley.cat.codes\n",
    "test_df['Alley'].fillna(0, inplace=True)\n",
    "test_df.Alley = test_df.Alley.astype('category')\n",
    "test_df.Alley = test_df.Alley.cat.codes\n",
    "print(train_df['Alley'].unique(), test_df['Alley'].unique())"
   ]
  },
  {
   "cell_type": "code",
   "execution_count": 113,
   "metadata": {},
   "outputs": [
    {
     "name": "stdout",
     "output_type": "stream",
     "text": [
      "[1 0] [1 0]\n"
     ]
    }
   ],
   "source": [
    "train_df.Street = train_df.Street.astype('category')\n",
    "train_df.Street = train_df.Street.cat.codes\n",
    "test_df.Street = test_df.Street.astype('category')\n",
    "test_df.Street = test_df.Street.cat.codes\n",
    "print(train_df.Street.unique(), test_df.Street.unique())"
   ]
  },
  {
   "cell_type": "code",
   "execution_count": 114,
   "metadata": {},
   "outputs": [
    {
     "name": "stdout",
     "output_type": "stream",
     "text": [
      "[3 0 1 2] [3 0 1 2]\n"
     ]
    }
   ],
   "source": [
    "train_df.LotShape = train_df.LotShape.astype('category')\n",
    "train_df.LotShape = train_df.LotShape.cat.codes\n",
    "test_df.LotShape = test_df.LotShape.astype('category')\n",
    "test_df.LotShape = test_df.LotShape.cat.codes\n",
    "print(train_df.LotShape.unique(), test_df.LotShape.unique())"
   ]
  },
  {
   "cell_type": "code",
   "execution_count": 117,
   "metadata": {},
   "outputs": [
    {
     "name": "stdout",
     "output_type": "stream",
     "text": [
      "[3 0 2 1] [3 1 0 2]\n"
     ]
    }
   ],
   "source": [
    "train_df.LandContour = train_df.LandContour.astype('category')\n",
    "train_df.LandContour = train_df.LandContour.cat.codes\n",
    "test_df.LandContour = test_df.LandContour.astype('category')\n",
    "test_df.LandContour = test_df.LandContour.cat.codes\n",
    "print(train_df.LandContour.unique(), test_df.LandContour.unique())"
   ]
  },
  {
   "cell_type": "code",
   "execution_count": 119,
   "metadata": {},
   "outputs": [
    {
     "name": "stdout",
     "output_type": "stream",
     "text": [
      "[0 1] [1 0]\n"
     ]
    }
   ],
   "source": [
    "train_df.Utilities = train_df.Utilities.astype('category')\n",
    "train_df.Utilities = train_df.Utilities.cat.codes\n",
    "test_df.Utilities = test_df.Utilities.astype('category')\n",
    "test_df.Utilities = test_df.Utilities.cat.codes\n",
    "print(train_df.Utilities.unique(), test_df.Utilities.unique())"
   ]
  },
  {
   "cell_type": "code",
   "execution_count": 121,
   "metadata": {},
   "outputs": [
    {
     "name": "stdout",
     "output_type": "stream",
     "text": [
      "[0 1 2 3] [0 1 2 3]\n"
     ]
    }
   ],
   "source": [
    "train_df.PoolQC = train_df.PoolQC.astype('category')\n",
    "train_df.PoolQC = train_df.PoolQC.cat.codes\n",
    "train_df['PoolQC'].fillna(0, inplace=True)\n",
    "test_df.PoolQC = test_df.PoolQC.astype('category')\n",
    "test_df.PoolQC = test_df.PoolQC.cat.codes\n",
    "test_df['PoolQC'].fillna(0, inplace=True)\n",
    "print(train_df.PoolQC.unique(), train_df.PoolQC.unique())"
   ]
  },
  {
   "cell_type": "code",
   "execution_count": 122,
   "metadata": {},
   "outputs": [
    {
     "name": "stdout",
     "output_type": "stream",
     "text": [
      "[3 4 0 1 2] [3 4 0 1 2]\n"
     ]
    }
   ],
   "source": [
    "train_df.MSZoning = train_df.MSZoning.astype('category')\n",
    "train_df.MSZoning = train_df.MSZoning.cat.codes\n",
    "test_df.MSZoning = test_df.MSZoning.astype('category')\n",
    "test_df.MSZoning = test_df.MSZoning.cat.codes\n",
    "print(train_df.MSZoning.unique(), train_df.MSZoning.unique())"
   ]
  },
  {
   "cell_type": "code",
   "execution_count": 124,
   "metadata": {},
   "outputs": [
    {
     "name": "stdout",
     "output_type": "stream",
     "text": [
      "[0 3 2 1 4] [3 0 1 2 4]\n"
     ]
    }
   ],
   "source": [
    "train_df.Fence = train_df.Fence.astype('category')\n",
    "train_df.Fence = train_df.Fence.cat.codes\n",
    "train_df['Fence'].fillna(0, inplace=True)\n",
    "test_df.Fence = test_df.Fence.astype('category')\n",
    "test_df.Fence = test_df.Fence.cat.codes\n",
    "test_df['Fence'].fillna(0, inplace=True)\n",
    "print(train_df.Fence.unique(), test_df.Fence.unique())"
   ]
  },
  {
   "cell_type": "code",
   "execution_count": 125,
   "metadata": {},
   "outputs": [
    {
     "name": "stdout",
     "output_type": "stream",
     "text": [
      "[0 3 1 2 4] [0 3 1 2 4]\n"
     ]
    }
   ],
   "source": [
    "train_df['MiscFeature'].fillna(0, inplace=True)\n",
    "train_df.MiscFeature = train_df.MiscFeature.astype('category')\n",
    "train_df.MiscFeature = train_df.MiscFeature.cat.codes\n",
    "test_df['MiscFeature'].fillna(0, inplace=True)\n",
    "test_df.MiscFeature = test_df.MiscFeature.astype('category')\n",
    "test_df.MiscFeature = test_df.MiscFeature.cat.codes\n",
    "print(train_df.MiscFeature.unique(), train_df.MiscFeature.unique())"
   ]
  },
  {
   "cell_type": "code",
   "execution_count": 126,
   "metadata": {},
   "outputs": [
    {
     "data": {
      "text/plain": [
       "(1459, 80)"
      ]
     },
     "execution_count": 126,
     "metadata": {},
     "output_type": "execute_result"
    }
   ],
   "source": [
    "test_df.shape"
   ]
  },
  {
   "cell_type": "code",
   "execution_count": 127,
   "metadata": {},
   "outputs": [
    {
     "name": "stdout",
     "output_type": "stream",
     "text": [
      "   Id  MSSubClass  MSZoning  LotArea  Street  Alley  LotShape  LandContour  \\\n0   1          60         3     8450       1      0         3            3   \n1   2          20         3     9600       1      0         3            3   \n2   3          60         3    11250       1      0         0            3   \n3   4          70         3     9550       1      0         0            3   \n4   5          60         3    14260       1      0         0            3   \n\n   Utilities  PoolArea  PoolQC  Fence  MiscFeature  YearBuilt  1stFlrSF  \\\n0          0         0       0      0            0       2003       856   \n1          0         0       0      0            0       1976      1262   \n2          0         0       0      0            0       2001       920   \n3          0         0       0      0            0       1915       961   \n4          0         0       0      0            0       2000      1145   \n\n   2ndFlrSF  FullBath  BedroomAbvGr  TotRmsAbvGrd  \n0       854         2             3             8  \n1         0         2             3             6  \n2       866         2             3             6  \n3       756         1             3             7  \n4      1053         2             4             9  \n"
     ]
    }
   ],
   "source": [
    "varible_columns = ['Id', 'MSSubClass',  'MSZoning',  'LotArea',  'Street',  'Alley',  'LotShape',\n",
    "                   'LandContour',  'Utilities', 'PoolArea', 'PoolQC', 'Fence', 'MiscFeature', 'YearBuilt', '1stFlrSF',\n",
    "                   '2ndFlrSF', 'FullBath', 'BedroomAbvGr', 'TotRmsAbvGrd']\n",
    "\n",
    "y = train_df.SalePrice\n",
    "X = train_df[varible_columns]\n",
    "print(X.head())"
   ]
  },
  {
   "cell_type": "code",
   "execution_count": 183,
   "metadata": {},
   "outputs": [],
   "source": [
    "from sklearn.model_selection import train_test_split\n",
    "from sklearn.ensemble import RandomForestRegressor, GradientBoostingRegressor\n",
    "from sklearn.metrics import mean_absolute_error\n",
    "\n",
    "train_X, val_X, train_y, val_y = train_test_split(X, y, random_state = 0)"
   ]
  },
  {
   "cell_type": "code",
   "execution_count": 129,
   "metadata": {},
   "outputs": [
    {
     "name": "stdout",
     "output_type": "stream",
     "text": [
      "     Id  MSSubClass  MSZoning  LotArea  Street  Alley  LotShape  LandContour  \\\n0  1461          20         2    11622       1      0         3            3   \n1  1462          20         3    14267       1      0         0            3   \n2  1463          60         3    13830       1      0         0            3   \n3  1464          60         3     9978       1      0         0            3   \n4  1465         120         3     5005       1      0         0            1   \n\n   Utilities  PoolArea  PoolQC  Fence  MiscFeature  YearBuilt  1stFlrSF  \\\n0          1         0       0      3            0       1961       896   \n1          1         0       0      0            1       1958      1329   \n2          1         0       0      3            0       1997       928   \n3          1         0       0      0            0       1998       926   \n4          1         0       0      0            0       1992      1280   \n\n   2ndFlrSF  FullBath  BedroomAbvGr  TotRmsAbvGrd  \n0         0         1             2             5  \n1         0         1             3             6  \n2       701         2             3             6  \n3       678         2             3             7  \n4         0         2             2             5  \n"
     ]
    },
    {
     "data": {
      "text/plain": [
       "(1460, 19)"
      ]
     },
     "execution_count": 129,
     "metadata": {},
     "output_type": "execute_result"
    }
   ],
   "source": [
    "print(test_df[varible_columns].head())\n",
    "test_X[varible_columns].shape"
   ]
  },
  {
   "cell_type": "code",
   "execution_count": 184,
   "metadata": {},
   "outputs": [],
   "source": [
    "my_model = GradientBoostingRegressor(n_estimators=3000, learning_rate=0.05,\n",
    "                                   max_depth=4, max_features='sqrt',\n",
    "                                   min_samples_leaf=15, min_samples_split=10, \n",
    "                                   loss='huber', random_state =5)\n",
    "my_model.fit(train_X, train_y)\n",
    "test_X = test_df[varible_columns]\n",
    "predicted_prices = my_model.predict(test_X)"
   ]
  },
  {
   "cell_type": "code",
   "execution_count": 176,
   "metadata": {},
   "outputs": [],
   "source": [
    "def get_mae(max_leaf_nodes, predictors_train, predictors_val, targ_train, targ_val):\n",
    "    model = RandomForestRegressor(max_leaf_nodes=max_leaf_nodes, random_state=0)\n",
    "    model.fit(predictors_train, targ_train)\n",
    "    preds_val = model.predict(predictors_val)\n",
    "    mae = mean_absolute_error(targ_val, preds_val)\n",
    "    return(mae)"
   ]
  },
  {
   "cell_type": "code",
   "execution_count": 180,
   "metadata": {},
   "outputs": [
    {
     "name": "stdout",
     "output_type": "stream",
     "text": [
      "Max leaf nodes: 50  \t\t Mean Absolute Error:  24148\nMax leaf nodes: 51  \t\t Mean Absolute Error:  24109\nMax leaf nodes: 52  \t\t Mean Absolute Error:  24179\n"
     ]
    }
   ],
   "source": [
    "for max_leaf_nodes in [50, 51, 52]:\n",
    "    my_mae = get_mae(max_leaf_nodes, train_X, val_X, train_y, val_y)\n",
    "    print(\"Max leaf nodes: %d  \\t\\t Mean Absolute Error:  %d\" %(max_leaf_nodes, my_mae))"
   ]
  },
  {
   "cell_type": "code",
   "execution_count": 185,
   "metadata": {},
   "outputs": [],
   "source": [
    "my_submission = pd.DataFrame({'Id': test_X.Id, 'SalePrice': predicted_prices})\n",
    "my_submission.to_csv('submission.csv', index=False)"
   ]
  }
 ],
 "metadata": {
  "kernelspec": {
   "display_name": "Python 2",
   "language": "python",
   "name": "python2"
  },
  "language_info": {
   "codemirror_mode": {
    "name": "ipython",
    "version": 2
   },
   "file_extension": ".py",
   "mimetype": "text/x-python",
   "name": "python",
   "nbconvert_exporter": "python",
   "pygments_lexer": "ipython2",
   "version": "2.7.6"
  }
 },
 "nbformat": 4,
 "nbformat_minor": 0
}
